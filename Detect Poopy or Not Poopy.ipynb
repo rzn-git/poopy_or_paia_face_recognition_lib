{
 "cells": [
  {
   "cell_type": "code",
   "execution_count": null,
   "metadata": {},
   "outputs": [
    {
     "ename": "",
     "evalue": "",
     "output_type": "error",
     "traceback": [
      "\u001b[1;31mThe kernel failed to start as a dll could not be loaded.\n",
      "\u001b[1;31mClick <a href='https://aka.ms/kernelFailuresDllLoad'>here</a> for more info."
     ]
    }
   ],
   "source": [
    "import streamlit as st\n",
    "import dlib\n",
    "import face_recognition\n",
    "import numpy as np\n",
    "from PIL import Image\n",
    "import pickle\n",
    "import os\n",
    "import sys\n",
    "\n",
    "# Print versions of the modules\n",
    "\n",
    "print(\"Streamlit version:\", st.__version__)\n",
    "print(f\"dlib version: {dlib.__version__}\")\n",
    "print(\"Face Recognition version:\", face_recognition.__version__)\n",
    "print(\"NumPy version:\", np.__version__)\n",
    "print(\"Pillow (PIL) version:\", Image.__version__)  # PIL uses Image for versioning\n",
    "print(\"OS version: Standard library, no version attribute\")\n",
    "print(sys.version)"
   ]
  },
  {
   "cell_type": "code",
   "execution_count": 1,
   "metadata": {},
   "outputs": [
    {
     "name": "stdout",
     "output_type": "stream",
     "text": [
      "Face recognition model has been trained and saved.\n"
     ]
    }
   ],
   "source": [
    "\n",
    "\n",
    "import os\n",
    "import face_recognition\n",
    "import pickle\n",
    "\n",
    "# Path to the directory where each person's images are stored in separate folders\n",
    "KNOWN_FACES_DIR = 'E:/GitHub-rzn/Poopy-or-Not-Poopy/Dataset/'\n",
    "ENCODINGS_FILE = 'E:/GitHub-rzn/Poopy-or-Not-Poopy/face_recognition_lib/model/poopy-not-poopy.pkl'\n",
    "\n",
    "# Ensure the model directory exists\n",
    "os.makedirs('model', exist_ok=True)\n",
    "\n",
    "def load_known_faces():\n",
    "    known_face_encodings = []\n",
    "    known_face_names = []\n",
    "\n",
    "    # Iterate through each person's folder\n",
    "    for person_folder in os.listdir(KNOWN_FACES_DIR):\n",
    "        person_folder_path = os.path.join(KNOWN_FACES_DIR, person_folder)\n",
    "        \n",
    "        if os.path.isdir(person_folder_path):\n",
    "            # Iterate through each image in the person's folder\n",
    "            for filename in os.listdir(person_folder_path):\n",
    "                if filename.endswith(('jpg', 'jpeg', 'png')):\n",
    "                    image_path = os.path.join(person_folder_path, filename)\n",
    "                    image = face_recognition.load_image_file(image_path)\n",
    "                    face_encodings = face_recognition.face_encodings(image)\n",
    "                    \n",
    "                    if face_encodings:  # Check if any face encodings are found\n",
    "                        encoding = face_encodings[0]\n",
    "                        known_face_encodings.append(encoding)\n",
    "                        known_face_names.append(person_folder)  # Use the folder name as the person's name\n",
    "\n",
    "    save_face_encodings(known_face_encodings, known_face_names)\n",
    "\n",
    "def save_face_encodings(encodings, names, file_path=ENCODINGS_FILE):\n",
    "    with open(file_path, 'wb') as f:\n",
    "        pickle.dump({'encodings': encodings, 'names': names}, f)\n",
    "\n",
    "# Train and save the face recognition model\n",
    "load_known_faces()\n",
    "print(\"Face recognition model has been trained and saved.\")\n"
   ]
  }
 ],
 "metadata": {
  "kernelspec": {
   "display_name": "base",
   "language": "python",
   "name": "python3"
  },
  "language_info": {
   "codemirror_mode": {
    "name": "ipython",
    "version": 3
   },
   "file_extension": ".py",
   "mimetype": "text/x-python",
   "name": "python",
   "nbconvert_exporter": "python",
   "pygments_lexer": "ipython3",
   "version": "3.12.7"
  }
 },
 "nbformat": 4,
 "nbformat_minor": 2
}
